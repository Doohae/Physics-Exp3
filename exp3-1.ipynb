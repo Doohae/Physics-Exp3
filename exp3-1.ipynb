{
 "cells": [
  {
   "cell_type": "code",
   "execution_count": 8,
   "id": "7b6eb8a6-5758-4ee3-98e8-16fce6b62366",
   "metadata": {},
   "outputs": [],
   "source": [
    "import numpy as np\n",
    "import pandas as pd\n",
    "\n",
    "from matplotlib import pyplot as plt\n",
    "import seaborn as sns\n",
    "\n",
    "from typing import List, Optional, Union, Dict\n",
    "from IPython.display import display"
   ]
  },
  {
   "cell_type": "markdown",
   "id": "937ce1cd-b984-411e-bcc5-92874de7bf20",
   "metadata": {},
   "source": [
    "# Grating Exp."
   ]
  },
  {
   "cell_type": "code",
   "execution_count": 9,
   "id": "6ee2273e-1cf4-4be7-857f-8020812f6fd4",
   "metadata": {},
   "outputs": [],
   "source": [
    "# Exp. Data\n",
    "na_grating = {\n",
    "    300: [9.95, 9.8],\n",
    "    600: [20.34, 21.22],\n",
    "    830: [29.75, 28.78]\n",
    "}\n",
    "hg_grating = {\n",
    "    300: [7.4, 7.45],\n",
    "    600: [15.51, 15],\n",
    "    830: [21.05, 21.11]\n",
    "}"
   ]
  },
  {
   "cell_type": "markdown",
   "id": "25406a70-b157-4d8a-b0f8-1c4ab41d4308",
   "metadata": {},
   "source": [
    "na: 589.2  \n",
    "hg: 436 (blue)"
   ]
  },
  {
   "cell_type": "code",
   "execution_count": 10,
   "id": "c8e50bf2-b735-4de4-b8ce-b852d26080cd",
   "metadata": {},
   "outputs": [],
   "source": [
    "def grating_exp(grating: Dict[int, List[float]], gt_wavelength: float)->pd.DataFrame:\n",
    "    k = 1\n",
    "    def get_wavelength(angle: float, n: float, k: Optional[int] = 1) -> float:\n",
    "        return np.sin(angle*np.pi/180)/(n*k)\n",
    "    \n",
    "    wavelengths = dict()\n",
    "    for gr, angles in grating.items():\n",
    "        angle = np.mean(angles)\n",
    "        wavelengths[gr] = get_wavelength(angle, gr, k)*1e+6\n",
    "        \n",
    "    wavelength = gt_wavelength\n",
    "    grating_error = dict()\n",
    "    for gr, length in wavelengths.items():\n",
    "        grating_error[gr] = 100*abs(length-wavelength)/wavelength\n",
    "        \n",
    "    df_grating = pd.DataFrame({\n",
    "        \"exp. wavelength\": wavelengths.values(),\n",
    "        \"error rate\": grating_error.values()})\n",
    "    df_grating.index = [300, 600, 830]\n",
    "    return df_grating"
   ]
  },
  {
   "cell_type": "code",
   "execution_count": 11,
   "id": "61ea0796-631e-49ae-8d73-cb5004ece247",
   "metadata": {},
   "outputs": [
    {
     "data": {
      "text/html": [
       "<div>\n",
       "<style scoped>\n",
       "    .dataframe tbody tr th:only-of-type {\n",
       "        vertical-align: middle;\n",
       "    }\n",
       "\n",
       "    .dataframe tbody tr th {\n",
       "        vertical-align: top;\n",
       "    }\n",
       "\n",
       "    .dataframe thead th {\n",
       "        text-align: right;\n",
       "    }\n",
       "</style>\n",
       "<table border=\"1\" class=\"dataframe\">\n",
       "  <thead>\n",
       "    <tr style=\"text-align: right;\">\n",
       "      <th></th>\n",
       "      <th>exp. wavelength</th>\n",
       "      <th>error rate</th>\n",
       "    </tr>\n",
       "  </thead>\n",
       "  <tbody>\n",
       "    <tr>\n",
       "      <th>300</th>\n",
       "      <td>571.664163</td>\n",
       "      <td>2.976211</td>\n",
       "    </tr>\n",
       "    <tr>\n",
       "      <th>600</th>\n",
       "      <td>591.301042</td>\n",
       "      <td>0.356592</td>\n",
       "    </tr>\n",
       "    <tr>\n",
       "      <th>830</th>\n",
       "      <td>588.975474</td>\n",
       "      <td>0.038107</td>\n",
       "    </tr>\n",
       "  </tbody>\n",
       "</table>\n",
       "</div>"
      ],
      "text/plain": [
       "     exp. wavelength  error rate\n",
       "300       571.664163    2.976211\n",
       "600       591.301042    0.356592\n",
       "830       588.975474    0.038107"
      ]
     },
     "metadata": {},
     "output_type": "display_data"
    }
   ],
   "source": [
    "display(grating_exp(na_grating, 589.2))"
   ]
  },
  {
   "cell_type": "code",
   "execution_count": 12,
   "id": "049d728e-29ab-46d6-8e62-e0c303538f49",
   "metadata": {},
   "outputs": [
    {
     "data": {
      "text/html": [
       "<div>\n",
       "<style scoped>\n",
       "    .dataframe tbody tr th:only-of-type {\n",
       "        vertical-align: middle;\n",
       "    }\n",
       "\n",
       "    .dataframe tbody tr th {\n",
       "        vertical-align: top;\n",
       "    }\n",
       "\n",
       "    .dataframe thead th {\n",
       "        text-align: right;\n",
       "    }\n",
       "</style>\n",
       "<table border=\"1\" class=\"dataframe\">\n",
       "  <thead>\n",
       "    <tr style=\"text-align: right;\">\n",
       "      <th></th>\n",
       "      <th>exp. wavelength</th>\n",
       "      <th>error rate</th>\n",
       "    </tr>\n",
       "  </thead>\n",
       "  <tbody>\n",
       "    <tr>\n",
       "      <th>300</th>\n",
       "      <td>430.760942</td>\n",
       "      <td>1.201619</td>\n",
       "    </tr>\n",
       "    <tr>\n",
       "      <th>600</th>\n",
       "      <td>438.525678</td>\n",
       "      <td>0.579284</td>\n",
       "    </tr>\n",
       "    <tr>\n",
       "      <th>830</th>\n",
       "      <td>433.338704</td>\n",
       "      <td>0.610389</td>\n",
       "    </tr>\n",
       "  </tbody>\n",
       "</table>\n",
       "</div>"
      ],
      "text/plain": [
       "     exp. wavelength  error rate\n",
       "300       430.760942    1.201619\n",
       "600       438.525678    0.579284\n",
       "830       433.338704    0.610389"
      ]
     },
     "metadata": {},
     "output_type": "display_data"
    }
   ],
   "source": [
    "display(grating_exp(hg_grating, 436))"
   ]
  },
  {
   "cell_type": "markdown",
   "id": "46699fd8-84d0-41dc-95df-678140de82ab",
   "metadata": {},
   "source": [
    "# Prism"
   ]
  },
  {
   "cell_type": "code",
   "execution_count": 13,
   "id": "cb81e524-d50f-4f6a-8486-43eb8043d074",
   "metadata": {},
   "outputs": [],
   "source": [
    "# glass == crown인걸로..\n",
    "na_prism = {\n",
    "    \"glass\": 38.46,\n",
    "    \"glycerol\": 34.83\n",
    "}\n",
    "\n",
    "hg_prism = {\n",
    "    \"glass\": 39.05,\n",
    "    \"glycerol\": 35.01\n",
    "}"
   ]
  },
  {
   "cell_type": "code",
   "execution_count": 14,
   "id": "9b06d107-fc2c-41a1-9051-79b4e9a5e9ad",
   "metadata": {},
   "outputs": [],
   "source": [
    "theo_index = {\"glass\": 1.52, \"glycerol\": 1.4729}\n",
    "\n",
    "def prism_exp(prism: Dict[str, float])->Dict[str, float]:\n",
    "    def get_refraction(theta: Optional[float], delta: float) -> float:\n",
    "        return np.sin(((theta+delta)/2)*np.pi/180)/np.sin((theta/2)*np.pi/180)\n",
    "    \n",
    "    refraction = dict()\n",
    "    for mat, delta in prism.items():\n",
    "        refraction[mat] = get_refraction(60, delta)\n",
    "        \n",
    "    prism_error = dict()\n",
    "    for mat, ref in refraction.items():\n",
    "        prism_error[mat] = 100*abs(theo_index[mat]-refraction[mat])/theo_index[mat]\n",
    "        \n",
    "    return prism_error"
   ]
  },
  {
   "cell_type": "code",
   "execution_count": 15,
   "id": "c8d0979d-a5ee-4e6c-9e65-41c9387aa54d",
   "metadata": {},
   "outputs": [
    {
     "data": {
      "text/plain": [
       "{'glass': 0.3503839345947738, 'glycerol': 0.023862094298371838}"
      ]
     },
     "metadata": {},
     "output_type": "display_data"
    }
   ],
   "source": [
    "display(prism_exp(na_prism))"
   ]
  },
  {
   "cell_type": "code",
   "execution_count": 16,
   "id": "8e580360-7556-4006-bf64-9e3f38cdf4bc",
   "metadata": {},
   "outputs": [
    {
     "data": {
      "text/plain": [
       "{'glass': 0.09069320721822345, 'glycerol': 0.12034630596657822}"
      ]
     },
     "metadata": {},
     "output_type": "display_data"
    }
   ],
   "source": [
    "display(prism_exp(hg_prism))"
   ]
  },
  {
   "cell_type": "code",
   "execution_count": null,
   "id": "cbee616f-ad1f-4a6c-b9dc-679a743c78ef",
   "metadata": {},
   "outputs": [],
   "source": []
  }
 ],
 "metadata": {
  "kernelspec": {
   "display_name": "Python 3 (ipykernel)",
   "language": "python",
   "name": "python3"
  },
  "language_info": {
   "codemirror_mode": {
    "name": "ipython",
    "version": 3
   },
   "file_extension": ".py",
   "mimetype": "text/x-python",
   "name": "python",
   "nbconvert_exporter": "python",
   "pygments_lexer": "ipython3",
   "version": "3.9.10"
  }
 },
 "nbformat": 4,
 "nbformat_minor": 5
}
