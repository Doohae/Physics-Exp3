{
 "cells": [
  {
   "cell_type": "code",
   "execution_count": 2,
   "id": "7b6eb8a6-5758-4ee3-98e8-16fce6b62366",
   "metadata": {},
   "outputs": [],
   "source": [
    "import numpy as np\n",
    "import pandas as pd\n",
    "\n",
    "from matplotlib import pyplot as plt\n",
    "import seaborn as sns\n",
    "\n",
    "from typing import List, Optional, Union"
   ]
  },
  {
   "cell_type": "markdown",
   "id": "937ce1cd-b984-411e-bcc5-92874de7bf20",
   "metadata": {},
   "source": [
    "# Grating Exp."
   ]
  },
  {
   "cell_type": "code",
   "execution_count": 3,
   "id": "6ee2273e-1cf4-4be7-857f-8020812f6fd4",
   "metadata": {},
   "outputs": [],
   "source": [
    "# Exp. Data\n",
    "grating = {\n",
    "    300: [9.95, 9.8],\n",
    "    600: [20.34, 21.22],\n",
    "    830: [29.75, 28.78]\n",
    "}"
   ]
  },
  {
   "cell_type": "code",
   "execution_count": 31,
   "id": "66af4066-a5ab-4de0-92f6-1db08c61d18e",
   "metadata": {},
   "outputs": [],
   "source": [
    "k = 1\n",
    "def get_wavelength(angle: float, n: float, k: Optional[int] = 1) -> float:\n",
    "    return np.sin(angle*np.pi/180)/(n*k)"
   ]
  },
  {
   "cell_type": "code",
   "execution_count": 37,
   "id": "881132e4-0970-4e69-83c4-2218a848c485",
   "metadata": {},
   "outputs": [
    {
     "data": {
      "text/plain": [
       "{300: 571.6641629859138, 600: 591.3010417678413, 830: 588.9754743012875}"
      ]
     },
     "execution_count": 37,
     "metadata": {},
     "output_type": "execute_result"
    }
   ],
   "source": [
    "wavelengths = dict()\n",
    "for gr, angles in grating.items():\n",
    "    angle = np.mean(angles)\n",
    "    wavelengths[gr] = get_wavelength(angle, gr, k)*1e+6\n",
    "wavelengths"
   ]
  },
  {
   "cell_type": "code",
   "execution_count": 39,
   "id": "768dd1d0-5557-4ab2-971a-0be5a980a600",
   "metadata": {},
   "outputs": [
    {
     "data": {
      "text/plain": [
       "{300: 2.9762113058530666, 600: 0.3565922891787597, 830: 0.03810687350858258}"
      ]
     },
     "execution_count": 39,
     "metadata": {},
     "output_type": "execute_result"
    }
   ],
   "source": [
    "na_wavelength = 589.2\n",
    "na_grating_error = dict()\n",
    "for gr, length in wavelengths.items():\n",
    "    na_grating_error[gr] = 100*abs(length-na_wavelength)/na_wavelength\n",
    "na_grating_error"
   ]
  },
  {
   "cell_type": "code",
   "execution_count": 41,
   "id": "38039fdb-9dbf-48c2-a2a6-f676bda87fc8",
   "metadata": {},
   "outputs": [
    {
     "data": {
      "text/html": [
       "<div>\n",
       "<style scoped>\n",
       "    .dataframe tbody tr th:only-of-type {\n",
       "        vertical-align: middle;\n",
       "    }\n",
       "\n",
       "    .dataframe tbody tr th {\n",
       "        vertical-align: top;\n",
       "    }\n",
       "\n",
       "    .dataframe thead th {\n",
       "        text-align: right;\n",
       "    }\n",
       "</style>\n",
       "<table border=\"1\" class=\"dataframe\">\n",
       "  <thead>\n",
       "    <tr style=\"text-align: right;\">\n",
       "      <th></th>\n",
       "      <th>exp. wavelength</th>\n",
       "      <th>error rate</th>\n",
       "    </tr>\n",
       "  </thead>\n",
       "  <tbody>\n",
       "    <tr>\n",
       "      <th>300</th>\n",
       "      <td>571.664163</td>\n",
       "      <td>2.976211</td>\n",
       "    </tr>\n",
       "    <tr>\n",
       "      <th>600</th>\n",
       "      <td>591.301042</td>\n",
       "      <td>0.356592</td>\n",
       "    </tr>\n",
       "    <tr>\n",
       "      <th>830</th>\n",
       "      <td>588.975474</td>\n",
       "      <td>0.038107</td>\n",
       "    </tr>\n",
       "  </tbody>\n",
       "</table>\n",
       "</div>"
      ],
      "text/plain": [
       "     exp. wavelength  error rate\n",
       "300       571.664163    2.976211\n",
       "600       591.301042    0.356592\n",
       "830       588.975474    0.038107"
      ]
     },
     "execution_count": 41,
     "metadata": {},
     "output_type": "execute_result"
    }
   ],
   "source": [
    "df_grating_na = pd.DataFrame({\n",
    "    \"exp. wavelength\": wavelengths.values(),\n",
    "    \"error rate\": na_grating_error.values()})\n",
    "df_grating_na.index = [300, 600, 830]\n",
    "df_grating_na"
   ]
  },
  {
   "cell_type": "markdown",
   "id": "46699fd8-84d0-41dc-95df-678140de82ab",
   "metadata": {},
   "source": [
    "# Prism"
   ]
  },
  {
   "cell_type": "code",
   "execution_count": 49,
   "id": "cb81e524-d50f-4f6a-8486-43eb8043d074",
   "metadata": {},
   "outputs": [],
   "source": [
    "prism = {\n",
    "    \"glass\": 38.46,\n",
    "    \"glycerol\": 34.83\n",
    "}"
   ]
  },
  {
   "cell_type": "code",
   "execution_count": 50,
   "id": "887ef72f-c16b-4902-b94f-8863bc7549e2",
   "metadata": {},
   "outputs": [],
   "source": [
    "def get_refraction(theta: Optional[float], delta: float) -> float:\n",
    "    return np.sin(((theta+delta)/2)*np.pi/180)/np.sin((theta/2)*np.pi/180)"
   ]
  },
  {
   "cell_type": "code",
   "execution_count": 51,
   "id": "31ccc6ad-c65a-4654-b588-37bd51988731",
   "metadata": {},
   "outputs": [
    {
     "data": {
      "text/plain": [
       "{'glass': 1.5146741641941595, 'glycerol': 1.4725485352130794}"
      ]
     },
     "execution_count": 51,
     "metadata": {},
     "output_type": "execute_result"
    }
   ],
   "source": [
    "na_refraction = dict()\n",
    "for mat, delta in prism.items():\n",
    "    na_refraction[mat] = get_refraction(60, delta)\n",
    "na_refraction"
   ]
  },
  {
   "cell_type": "code",
   "execution_count": 54,
   "id": "9d899c05-d410-444b-9f14-47a85e983fc7",
   "metadata": {},
   "outputs": [
    {
     "data": {
      "text/plain": [
       "{'glass': 0.3503839345947738, 'glycerol': 0.023862094298371838}"
      ]
     },
     "execution_count": 54,
     "metadata": {},
     "output_type": "execute_result"
    }
   ],
   "source": [
    "theo_index = {\"glass\": 1.52, \"glycerol\": 1.4729}\n",
    "na_prism_error = dict()\n",
    "for mat, ref in na_refraction.items():\n",
    "    na_prism_error[mat] = 100*abs(theo_index[mat]-na_refraction[mat])/theo_index[mat]\n",
    "na_prism_error"
   ]
  },
  {
   "cell_type": "code",
   "execution_count": null,
   "id": "9b06d107-fc2c-41a1-9051-79b4e9a5e9ad",
   "metadata": {},
   "outputs": [],
   "source": []
  }
 ],
 "metadata": {
  "kernelspec": {
   "display_name": "Python 3 (ipykernel)",
   "language": "python",
   "name": "python3"
  },
  "language_info": {
   "codemirror_mode": {
    "name": "ipython",
    "version": 3
   },
   "file_extension": ".py",
   "mimetype": "text/x-python",
   "name": "python",
   "nbconvert_exporter": "python",
   "pygments_lexer": "ipython3",
   "version": "3.9.10"
  }
 },
 "nbformat": 4,
 "nbformat_minor": 5
}
