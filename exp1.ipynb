{
 "cells": [
  {
   "cell_type": "code",
   "execution_count": 1,
   "id": "6473c5c5-761e-48b2-8950-2671a6c08dc2",
   "metadata": {},
   "outputs": [],
   "source": [
    "import numpy as np\n",
    "import os\n",
    "from matplotlib import pyplot as plt"
   ]
  },
  {
   "cell_type": "markdown",
   "id": "afb7e207-e736-46ad-9687-6aca72b8028d",
   "metadata": {},
   "source": [
    "## Exp 1-1"
   ]
  },
  {
   "cell_type": "code",
   "execution_count": 2,
   "id": "f7bcda79-931e-4176-8d7e-85d0a57849c9",
   "metadata": {},
   "outputs": [
    {
     "data": {
      "text/plain": [
       "([0.20000000000000018, 0.3999999999999999, 0.6000000000000001],\n",
       " [16.0, 29.6, 44.8])"
      ]
     },
     "execution_count": 2,
     "metadata": {},
     "output_type": "execute_result"
    }
   ],
   "source": [
    "base = \"./exp1_data\"\n",
    "angles, volts = [], []\n",
    "with open(os.path.join(base, \"exp1-1.txt\"), \"r\") as f:\n",
    "    N = int(f.readline())\n",
    "    origin = float(f.readline())\n",
    "    for _ in range(N):\n",
    "        ang, volt = map(float, f.readline().split())\n",
    "        angles.append(origin - ang)\n",
    "        volts.append(volt)\n",
    "\n",
    "angles, volts"
   ]
  },
  {
   "cell_type": "code",
   "execution_count": 3,
   "id": "206250c4-7aff-4fa0-95bf-6532111a647c",
   "metadata": {},
   "outputs": [],
   "source": [
    "from scipy.optimize import curve_fit"
   ]
  },
  {
   "cell_type": "code",
   "execution_count": 4,
   "id": "ed25fc33-77b6-4a5a-af00-2cf44766f3de",
   "metadata": {},
   "outputs": [],
   "source": [
    "def lin_func(x, a, b):\n",
    "    return a*x + b"
   ]
  },
  {
   "cell_type": "code",
   "execution_count": 5,
   "id": "9617cc70-179e-4a6b-bd00-8ab400715860",
   "metadata": {},
   "outputs": [],
   "source": [
    "popt, pcov = curve_fit(lin_func, np.array(angles), np.array(volts))"
   ]
  },
  {
   "cell_type": "code",
   "execution_count": 6,
   "id": "9f85f36c-9fef-425e-9324-2fdcfbbfe8ee",
   "metadata": {},
   "outputs": [
    {
     "data": {
      "text/plain": [
       "(array([72.0000006 ,  1.33333306]),\n",
       " array([[ 5.33333051, -2.13333217],\n",
       "        [-2.13333217,  0.99555508]]),\n",
       " 72.00000059605829)"
      ]
     },
     "execution_count": 6,
     "metadata": {},
     "output_type": "execute_result"
    }
   ],
   "source": [
    "volt_per_rad = popt[0]\n",
    "popt, pcov, volt_per_rad"
   ]
  },
  {
   "cell_type": "code",
   "execution_count": 7,
   "id": "aff00c5d-ca03-4fb0-a841-25fbb9f128b9",
   "metadata": {},
   "outputs": [
    {
     "data": {
      "image/png": "[encoded data removed]",
      "text/plain": [
       "<Figure size 432x288 with 1 Axes>"
      ]
     },
     "metadata": {
      "needs_background": "light"
     },
     "output_type": "display_data"
    }
   ],
   "source": [
    "plt.plot(np.array(angles), np.array(volts), color=\"orange\")\n",
    "plt.plot(np.array(angles), lin_func(np.array(angles), *popt), color=\"skyblue\")\n",
    "plt.xlabel(\"rad $\\\\Delta \\\\theta$\")\n",
    "plt.ylabel(\"voltage V\")\n",
    "plt.title(\"angle vs. voltage\", size=14)\n",
    "plt.figtext(0.6, 0.5, s=f\"y = {popt[0]:.3f}*x + {popt[1]:.3f}\")\n",
    "plt.legend([\"raw data\", \"fitting\"])\n",
    "plt.show()"
   ]
  },
  {
   "cell_type": "markdown",
   "id": "0fcd7cc6-54e3-43bb-ac9f-8b4516f20485",
   "metadata": {},
   "source": [
    "## Exp 1-2"
   ]
  },
  {
   "cell_type": "code",
   "execution_count": 8,
   "id": "7a1fedd1-5328-4c65-9ef8-81d215ad396a",
   "metadata": {},
   "outputs": [
    {
     "data": {
      "text/plain": [
       "([100.0, 200.0, 300.0], [14.4, 30.4, 43.9], [0.1889, 0.3988, 0.5759])"
      ]
     },
     "execution_count": 8,
     "metadata": {},
     "output_type": "execute_result"
    }
   ],
   "source": [
    "weights, volts, radians = [], [], []\n",
    "with open(os.path.join(base, \"exp1-2.txt\"), \"r\") as f:\n",
    "    n  = int(f.readline())\n",
    "    for _ in range(n):\n",
    "        w, v, rad = map(float, f.readline().split())\n",
    "        weights.append(2*w)\n",
    "        volts.append(v)\n",
    "        radians.append(rad)\n",
    "        \n",
    "weights, volts, radians"
   ]
  },
  {
   "cell_type": "code",
   "execution_count": 9,
   "id": "945b7662-9bcc-4e84-bdca-a036d341064c",
   "metadata": {},
   "outputs": [],
   "source": [
    "def calculate_torque(mass, radius = None):\n",
    "    g_const = 9.8\n",
    "    if radius is None:\n",
    "        radius = 1.27e-2\n",
    "    return mass*radius*g_const"
   ]
  },
  {
   "cell_type": "code",
   "execution_count": 10,
   "id": "07cd1701-efef-4699-b2ed-90f82440af5a",
   "metadata": {},
   "outputs": [],
   "source": [
    "def calculate_kappa(mass, radian):\n",
    "    return calculate_torque(mass/1000)/radian"
   ]
  },
  {
   "cell_type": "code",
   "execution_count": 11,
   "id": "3dcfea92-3042-43c3-be8e-442025fc2b8e",
   "metadata": {},
   "outputs": [
    {
     "name": "stdout",
     "output_type": "stream",
     "text": [
      "0.06588671254632081\n",
      "0.06241725175526581\n",
      "0.06483417259940961\n"
     ]
    },
    {
     "data": {
      "text/plain": [
       "0.06437937896699875"
      ]
     },
     "execution_count": 11,
     "metadata": {},
     "output_type": "execute_result"
    }
   ],
   "source": [
    "for m, r in zip(weights, radians):\n",
    "    print(calculate_kappa(m, r))\n",
    "kappa = np.mean([calculate_kappa(m, r) for m, r in zip(weights, radians)])\n",
    "kappa"
   ]
  },
  {
   "cell_type": "code",
   "execution_count": 12,
   "id": "aa571a41-5500-43ed-b42f-3b335631ee28",
   "metadata": {},
   "outputs": [],
   "source": [
    "weights = np.array(weights)\n",
    "volts = np.array(volts)\n",
    "radians = np.array(radians)"
   ]
  },
  {
   "cell_type": "code",
   "execution_count": 13,
   "id": "a515cd9d-c668-4aa9-8955-f97720edb186",
   "metadata": {},
   "outputs": [],
   "source": [
    "popt, pcov = curve_fit(lin_func, weights, volts)"
   ]
  },
  {
   "cell_type": "code",
   "execution_count": 14,
   "id": "fc4dff4c-b93f-4b50-94a5-e2661339367d",
   "metadata": {},
   "outputs": [
    {
     "data": {
      "image/png": "[encoded data removed]",
      "text/plain": [
       "<Figure size 432x288 with 1 Axes>"
      ]
     },
     "metadata": {
      "needs_background": "light"
     },
     "output_type": "display_data"
    }
   ],
   "source": [
    "plt.plot(weights, volts, color=\"orange\")\n",
    "plt.plot(weights, lin_func(weights, *popt), color=\"skyblue\")\n",
    "plt.xlabel(\"mass (g)\")\n",
    "plt.ylabel(\"voltage V\")\n",
    "plt.title(\"mass vs. voltage\", size=14)\n",
    "plt.figtext(0.6, 0.5, s=f\"y = {popt[0]:.3f}*x + {popt[1]:.3f}\")\n",
    "plt.legend([\"raw data\", \"fitting\"])\n",
    "plt.show()"
   ]
  },
  {
   "cell_type": "markdown",
   "id": "d4bf5498-9ce0-4a1e-89a3-0300b7a7c26b",
   "metadata": {},
   "source": [
    "## Exp 1-3"
   ]
  },
  {
   "cell_type": "code",
   "execution_count": 15,
   "id": "f52ff765-f939-40c7-87c3-2b04caa6dacb",
   "metadata": {},
   "outputs": [
    {
     "data": {
      "text/plain": [
       "([0.0, 2.0, 4.0, 6.0, 8.0], [2.1, 2.4, 2.7, 2.9, 3.1])"
      ]
     },
     "execution_count": 15,
     "metadata": {},
     "output_type": "execute_result"
    }
   ],
   "source": [
    "brass = 214/1000\n",
    "nums, periods = [], []\n",
    "with open(os.path.join(base, \"exp1-3.txt\"), \"r\") as f:\n",
    "    n = int(f.readline())\n",
    "    for _ in range(n):\n",
    "        n, p = map(float, f.readline().split())\n",
    "        nums.append(n)\n",
    "        periods.append(p)\n",
    "nums, periods"
   ]
  },
  {
   "cell_type": "code",
   "execution_count": 16,
   "id": "f5104af3-8c9c-45b1-b202-9b270fb9e971",
   "metadata": {},
   "outputs": [],
   "source": [
    "def period_square(period):\n",
    "    return (period/(2*np.pi))**2"
   ]
  },
  {
   "cell_type": "code",
   "execution_count": 17,
   "id": "88cd5ab7-dffa-4754-aee3-5774846f3de4",
   "metadata": {},
   "outputs": [],
   "source": [
    "p_sqr = np.array([period_square(p) for p in periods])\n",
    "nums = np.array(nums)"
   ]
  },
  {
   "cell_type": "code",
   "execution_count": 18,
   "id": "0f5ac253-9f07-43ee-b0a4-4f6cb130dedf",
   "metadata": {},
   "outputs": [],
   "source": [
    "popt, pcov = curve_fit(lin_func, nums, p_sqr)"
   ]
  },
  {
   "cell_type": "code",
   "execution_count": 19,
   "id": "ad36f350-1c61-4b88-b25b-3c78a6e29a6c",
   "metadata": {},
   "outputs": [
    {
     "data": {
      "image/png": "[encoded data removed]",
      "text/plain": [
       "<Figure size 432x288 with 1 Axes>"
      ]
     },
     "metadata": {
      "needs_background": "light"
     },
     "output_type": "display_data"
    }
   ],
   "source": [
    "plt.plot(nums, p_sqr, color=\"orange\")\n",
    "plt.plot(nums, lin_func(nums, *popt), color=\"skyblue\")\n",
    "plt.xlabel(\"number of weights\")\n",
    "plt.ylabel(\"$(\\\\frac{T}{2\\pi})^2$ ($s^2$)\")\n",
    "plt.title(\"weight num. vs. $(\\\\frac{T}{2\\pi})^2$\", size=14)\n",
    "plt.figtext(0.6, 0.5, s=f\"y = {popt[0]:.3f}*x + {popt[1]:.3f}\")\n",
    "plt.legend([\"raw data\", \"fitting\"])\n",
    "plt.show()"
   ]
  },
  {
   "cell_type": "markdown",
   "id": "56644cf0-afe4-4d0c-80f7-2d01c19b1538",
   "metadata": {},
   "source": [
    "## Exp 1-4"
   ]
  },
  {
   "cell_type": "code",
   "execution_count": 20,
   "id": "b76185c0-92b9-42c5-825a-135fb6e4b864",
   "metadata": {},
   "outputs": [
    {
     "data": {
      "text/plain": [
       "([0.1, 0.25, 0.4, 0.5], [3.68, 10.0, 14.7, 18.0])"
      ]
     },
     "execution_count": 20,
     "metadata": {},
     "output_type": "execute_result"
    }
   ],
   "source": [
    "vins, deltav = [], []\n",
    "with open(os.path.join(base, \"exp1-4.txt\"), \"r\") as f:\n",
    "    freq = int(f.readline())\n",
    "    n = int(f.readline())\n",
    "    for _ in range(n):\n",
    "        vin, volt = map(float, f.readline().split())\n",
    "        vins.append(vin/1000)\n",
    "        deltav.append(volt)\n",
    "        \n",
    "vins, deltav"
   ]
  },
  {
   "cell_type": "code",
   "execution_count": 21,
   "id": "743d2632-3158-4ff5-8250-e2f904328028",
   "metadata": {},
   "outputs": [],
   "source": [
    "def volt_to_rad(voltage, v_per_rad = None):\n",
    "    if v_per_rad is None:\n",
    "        v_per_rad = volt_per_rad\n",
    "    return voltage/v_per_rad"
   ]
  },
  {
   "cell_type": "code",
   "execution_count": 22,
   "id": "15a26208-cbe5-4e7b-92db-e5ff0b94b541",
   "metadata": {},
   "outputs": [
    {
     "data": {
      "text/plain": [
       "array([0.05111111, 0.13888889, 0.20416666, 0.25      ])"
      ]
     },
     "execution_count": 22,
     "metadata": {},
     "output_type": "execute_result"
    }
   ],
   "source": [
    "radians = np.array([volt_to_rad(v) for v in deltav])\n",
    "radians"
   ]
  },
  {
   "cell_type": "code",
   "execution_count": 23,
   "id": "33c79b41-1fc8-4dbb-a817-e0f341068b14",
   "metadata": {},
   "outputs": [],
   "source": [
    "def get_current(voltage, resistance = None):\n",
    "    if resistance is None:\n",
    "        resistance = 7.6\n",
    "    return voltage/resistance"
   ]
  },
  {
   "cell_type": "code",
   "execution_count": 24,
   "id": "f5bdf761-8b76-4981-8802-51a4db7efa8d",
   "metadata": {},
   "outputs": [],
   "source": [
    "def get_magnet(voltage):\n",
    "    N = 201\n",
    "    a = 2.20\n",
    "    mu_0 = 4*np.pi*(1e-7)\n",
    "    current = get_current(voltage)\n",
    "    term1 = (mu_0*current*N*(a**2))\n",
    "    term2 = ((a**2)+((a/2)**2))**(-3/2)\n",
    "    return term1*term2"
   ]
  },
  {
   "cell_type": "code",
   "execution_count": 25,
   "id": "5cc79452-78fa-4b66-adc8-576907db7b73",
   "metadata": {},
   "outputs": [
    {
     "data": {
      "text/plain": [
       "array([1.08094757e-06, 2.70236892e-06, 4.32379027e-06, 5.40473784e-06])"
      ]
     },
     "execution_count": 25,
     "metadata": {},
     "output_type": "execute_result"
    }
   ],
   "source": [
    "magnets = np.array([get_magnet(v) for v in vins])\n",
    "magnets"
   ]
  },
  {
   "cell_type": "code",
   "execution_count": 26,
   "id": "e9b04296-6997-43e9-8400-90e9369877b8",
   "metadata": {},
   "outputs": [
    {
     "data": {
      "text/plain": [
       "array([ 2.18609176e-05, -1.42557428e-07])"
      ]
     },
     "execution_count": 26,
     "metadata": {},
     "output_type": "execute_result"
    }
   ],
   "source": [
    "popt, pcov = curve_fit(lin_func, radians, magnets)\n",
    "popt"
   ]
  },
  {
   "cell_type": "code",
   "execution_count": 27,
   "id": "81afe733-82cb-48de-8241-07ecc098a8eb",
   "metadata": {},
   "outputs": [
    {
     "data": {
      "image/png": "[encoded data removed]",
      "text/plain": [
       "<Figure size 432x288 with 1 Axes>"
      ]
     },
     "metadata": {
      "needs_background": "light"
     },
     "output_type": "display_data"
    }
   ],
   "source": [
    "plt.plot(radians, magnets, color=\"orange\")\n",
    "plt.plot(radians, lin_func(radians, *popt), color=\"skyblue\")\n",
    "plt.xlabel(\"radian $\\Delta \\\\theta$\")\n",
    "plt.ylabel(\"magnetic field (T)\")\n",
    "plt.title(\"radian vs. magnetic field\", size=14)\n",
    "plt.figtext(0.5, 0.4, s=f\"y = {popt[0]:.7f}*x + {popt[1]:.7f}\")\n",
    "plt.legend([\"raw data\", \"fitting\"])\n",
    "plt.show()"
   ]
  },
  {
   "cell_type": "markdown",
   "id": "402a9a82-4c39-4a50-ad94-4da14cad94c7",
   "metadata": {},
   "source": [
    "## Exp 1-9"
   ]
  },
  {
   "cell_type": "code",
   "execution_count": 29,
   "id": "19e89196-52d8-4098-9507-ebfb7a972b21",
   "metadata": {},
   "outputs": [
    {
     "name": "stdout",
     "output_type": "stream",
     "text": [
      "out in 2.85shift\n",
      "\n"
     ]
    },
    {
     "data": {
      "text/plain": [
       "([330.0, 570.0, 770.0], [14.6, 20.3, 7.36])"
      ]
     },
     "execution_count": 29,
     "metadata": {},
     "output_type": "execute_result"
    }
   ],
   "source": [
    "freqs, amps = [], []\n",
    "with open(os.path.join(base, \"exp1-9.txt\"), \"r\") as f:\n",
    "    title = f.readline()\n",
    "    print(title)\n",
    "    n = int(f.readline())\n",
    "    for _ in range(n):\n",
    "        freq, amp = map(float, f.readline().split())\n",
    "        freqs.append(freq)\n",
    "        amps.append(amp)\n",
    "\n",
    "    \n",
    "freqs, amps"
   ]
  },
  {
   "cell_type": "code",
   "execution_count": 30,
   "id": "98d031e7-6bcf-4b7d-ba03-205f348f4c8f",
   "metadata": {},
   "outputs": [
    {
     "data": {
      "text/plain": [
       "0.06437937896699875"
      ]
     },
     "execution_count": 30,
     "metadata": {},
     "output_type": "execute_result"
    }
   ],
   "source": [
    "kappa"
   ]
  },
  {
   "cell_type": "code",
   "execution_count": null,
   "id": "e02330a5-3ef2-46ee-af05-b25517a6394a",
   "metadata": {},
   "outputs": [],
   "source": []
  }
 ],
 "metadata": {
  "kernelspec": {
   "display_name": "Python 3 (ipykernel)",
   "language": "python",
   "name": "python3"
  },
  "language_info": {
   "codemirror_mode": {
    "name": "ipython",
    "version": 3
   },
   "file_extension": ".py",
   "mimetype": "text/x-python",
   "name": "python",
   "nbconvert_exporter": "python",
   "pygments_lexer": "ipython3",
   "version": "3.9.10"
  }
 },
 "nbformat": 4,
 "nbformat_minor": 5
}
