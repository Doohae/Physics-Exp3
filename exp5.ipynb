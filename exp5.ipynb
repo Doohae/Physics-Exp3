{
 "cells": [
  {
   "cell_type": "markdown",
   "id": "6056e9a8-8b2d-4784-9081-95fea7fafb4e",
   "metadata": {},
   "source": [
    "# Michelson Interferometer"
   ]
  },
  {
   "cell_type": "markdown",
   "id": "1d4fe78c-1242-41e6-a427-4003f550a487",
   "metadata": {},
   "source": [
    "## Exp 1: 이동 거리 측정\n",
    "$2d = m \\lambda$"
   ]
  },
  {
   "cell_type": "code",
   "execution_count": 1,
   "id": "5d96a315-a625-4034-a32b-a3477ffddafb",
   "metadata": {},
   "outputs": [],
   "source": [
    "import os\n",
    "import numpy as np\n",
    "import pandas as pd\n",
    "\n",
    "from matplotlib import pyplot as plt\n",
    "import seaborn as sns"
   ]
  },
  {
   "cell_type": "code",
   "execution_count": 2,
   "id": "95697b9e-924b-457d-af0b-162ff8061e72",
   "metadata": {},
   "outputs": [],
   "source": [
    "def error_rate(real: float, exp: float):\n",
    "    return 100*abs(real-exp)/real"
   ]
  },
  {
   "cell_type": "code",
   "execution_count": 3,
   "id": "9717a5b8-07ba-4115-9228-b368e6a2384e",
   "metadata": {},
   "outputs": [
    {
     "name": "stdout",
     "output_type": "stream",
     "text": [
      "Actuator Distance: 119.5466nm/V\n",
      "Actuator Distance: 120.9172nm/V\n",
      "Actuator Distance: 121.1745nm/V\n",
      "Mean Act. Dist.: 120.5461nm/V\n"
     ]
    }
   ],
   "source": [
    "wavelength = 632.8   # He-Ne laser wavelength\n",
    "base_path = \"./exp5_data/\"\n",
    "distance_data = []\n",
    "with open(os.path.join(base_path, \"distance.txt\"), \"r\") as f:\n",
    "    while True:\n",
    "        try:\n",
    "            d_n, V = f.readline().split()\n",
    "            distance_data.append((int(d_n), float(V)))\n",
    "        except:\n",
    "            break\n",
    "            \n",
    "def get_distance(d_n: int, V: float):\n",
    "    d_n, V = int(d_n), float(V)\n",
    "    distance = d_n * wavelength / 2\n",
    "    actuator_distance = distance/V\n",
    "    # print(f\"Moving Distance per {V:.4f}V: {distance:.4f}nm\")\n",
    "    # print(f\"Moving Distance per 1V: {(actuator_distance):.4f}nm\")\n",
    "    return actuator_distance\n",
    "\n",
    "all_distance = []\n",
    "for d_n, V in distance_data:\n",
    "    distance = get_distance(d_n, V)\n",
    "    print(f\"Actuator Distance: {distance:.4f}nm/V\")\n",
    "    all_distance.append(distance)\n",
    "actuator_distance = np.mean(all_distance)\n",
    "print(f\"Mean Act. Dist.: {actuator_distance:.4f}nm/V\")"
   ]
  },
  {
   "cell_type": "markdown",
   "id": "adec2503-24a9-485e-bc3d-4343067a6aa2",
   "metadata": {},
   "source": [
    "## Exp 2: 미지 광원"
   ]
  },
  {
   "cell_type": "code",
   "execution_count": 16,
   "id": "ccde5eea-c671-43f4-8e94-09d1398b4b9a",
   "metadata": {},
   "outputs": [],
   "source": [
    "unknown_data = []\n",
    "with open(os.path.join(base_path, \"unknown.txt\"), \"r\") as f:\n",
    "    while True:\n",
    "        try:\n",
    "            d_n, V = f.readline().split()\n",
    "            unknown_data.append((int(d_n), float(V)))\n",
    "        except:\n",
    "            break"
   ]
  },
  {
   "cell_type": "code",
   "execution_count": 17,
   "id": "e2a880f1-7090-4320-830d-940b535330d8",
   "metadata": {},
   "outputs": [
    {
     "name": "stdout",
     "output_type": "stream",
     "text": [
      "Wavelength : 536.4301nm\n",
      "Error Rate: 3.3459%\n",
      "Wavelength : 472.5407nm\n",
      "Error Rate: 14.8575%\n",
      "Wavelength : 539.6447nm\n",
      "Error Rate: 2.7667%\n",
      "Wavelength : 535.5260nm\n",
      "Error Rate: 3.5088%\n",
      "Wavelength : 533.2959nm\n",
      "Error Rate: 3.9106%\n",
      "Mean Wavelength: 523.4875nm\n",
      "Error Rate: 5.677934874260622\n"
     ]
    }
   ],
   "source": [
    "# Green Wavelength at light-adapted eye\n",
    "green_light = 555\n",
    "def get_wavelength(d_n: int, V: float, actuator_distance: float):\n",
    "    avg_distance = actuator_distance * V\n",
    "    wavelength = 2 * avg_distance / d_n\n",
    "    print(f\"Wavelength : {wavelength:.4f}nm\")\n",
    "    return wavelength\n",
    "\n",
    "all_wavlength = []\n",
    "for d_n, V in unknown_data:\n",
    "    wavelength = get_wavelength(d_n, V, actuator_distance)\n",
    "    all_wavlength.append(wavelength)\n",
    "    print(f\"Error Rate: {error_rate(green_light, wavelength):.4f}%\")\n",
    "mean_wavelength = np.mean(all_wavlength)\n",
    "print(f\"Mean Wavelength: {mean_wavelength:.4f}nm\")\n",
    "print(f\"Error Rate: {error_rate(green_light, mean_wavelength)}\")"
   ]
  },
  {
   "cell_type": "markdown",
   "id": "f6cf0c67-2163-4e1d-9a9f-5b99a930be59",
   "metadata": {},
   "source": [
    "## Exp 3: 공기 굴절률\n",
    "$n = \\cfrac{\\lambda}{2LC} P + 1$  \n",
    "$\\Delta{P} = C{\\Delta}m$"
   ]
  },
  {
   "cell_type": "code",
   "execution_count": 6,
   "id": "5c6eaed0-6989-416e-9b84-7650bdf98d12",
   "metadata": {},
   "outputs": [],
   "source": [
    "air_data = []\n",
    "with open(os.path.join(base_path, \"pressure.txt\"), \"r\") as f:\n",
    "    while True:\n",
    "        try:\n",
    "            P, d_n = map(int, f.readline().split())\n",
    "            air_data.append((P, d_n))\n",
    "        except:\n",
    "            break"
   ]
  },
  {
   "cell_type": "code",
   "execution_count": 7,
   "id": "97ce76eb-75a8-470d-9435-a03697707279",
   "metadata": {},
   "outputs": [],
   "source": [
    "def cmHg_to_atm(pressure: float):\n",
    "    return pressure/76\n",
    "\n",
    "def get_constant(d_n: int, d_P: float):\n",
    "    return d_P/d_n"
   ]
  },
  {
   "cell_type": "code",
   "execution_count": 8,
   "id": "3875aa56-1b7e-4a8c-af83-b22665fef912",
   "metadata": {},
   "outputs": [],
   "source": [
    "L = 3              # air cell distance (cm)\n",
    "wavelength = 632.8 # He-Ne wavelength (nm)\n",
    "def air_refractive_index(wavelength, L, C, P=1):\n",
    "    return (wavelength*1e-9/(2*L*1e-3*C))*P + 1"
   ]
  },
  {
   "cell_type": "code",
   "execution_count": 9,
   "id": "5419a1ae-b7f3-42c0-801d-bc9ab92fe84d",
   "metadata": {},
   "outputs": [
    {
     "name": "stdout",
     "output_type": "stream",
     "text": [
      "Air Refractive Index: 1.0032061866666666\n",
      "Error Rate: 0.2912333352994084%\n",
      "Air Refractive Index: 1.0032061866666666\n",
      "Error Rate: 0.2912333352994084%\n",
      "Air Refractive Index: 1.0032061866666666\n",
      "Error Rate: 0.2912333352994084%\n",
      "Air Refractive Index: 1.0032061866666666\n",
      "Error Rate: 0.2912333352994084%\n",
      "Air Refractive Index: 1.0032061866666666\n",
      "Error Rate: 0.2912333352994084%\n",
      "Mean Air Ref.: 1.00321\n",
      "Error Rate: 0.2912333352994084%\n"
     ]
    }
   ],
   "source": [
    "air_index = 1.000293  # theoretical value\n",
    "indicies = []\n",
    "for P, d_n in air_data:\n",
    "    C = cmHg_to_atm(get_constant(d_n, P))\n",
    "    index = air_refractive_index(wavelength, L, C)\n",
    "    print(f\"Air Refractive Index: {index}\")\n",
    "    indicies.append(index)\n",
    "    print(f\"Error Rate: {error_rate(air_index, index)}%\")\n",
    "    \n",
    "mean_index = np.mean(indicies)\n",
    "print(f\"Mean Air Ref.: {mean_index:.5f}\")\n",
    "print(f\"Error Rate: {error_rate(air_index, index)}%\")"
   ]
  },
  {
   "cell_type": "markdown",
   "id": "74659e6b-3f81-4727-81bd-8595865cb247",
   "metadata": {},
   "source": [
    "## Exp 4: 유리판 굴절률\n",
    "$n_g=\\cfrac{n_a (1-cos⁡\\theta)(2n_a t-N\\lambda)}{2n_a t(1-cos⁡\\theta)-N\\lambda}$"
   ]
  },
  {
   "cell_type": "code",
   "execution_count": 10,
   "id": "74028960-fdc9-48d3-93d4-aadbcafa131a",
   "metadata": {},
   "outputs": [
    {
     "data": {
      "text/plain": [
       "[(2, 2), (4, 5), (6, 11), (8, 17), (10, 24)]"
      ]
     },
     "execution_count": 10,
     "metadata": {},
     "output_type": "execute_result"
    }
   ],
   "source": [
    "glass_data = []\n",
    "with open(os.path.join(base_path, \"glass.txt\"), \"r\") as f:\n",
    "    while True:\n",
    "        try:\n",
    "            degree, d_n = map(int, f.readline().split())\n",
    "            glass_data.append((degree, d_n))\n",
    "        except:\n",
    "            break\n",
    "            \n",
    "glass_data"
   ]
  },
  {
   "cell_type": "code",
   "execution_count": 11,
   "id": "48d224e3-6b6e-4e0f-b3b8-0e616bacb287",
   "metadata": {},
   "outputs": [],
   "source": [
    "n_a = 1.0003              # air refractive index\n",
    "t = 3e-3                  # glass thickness\n",
    "wavelength = 632.8 * 1e-9 # He-Ne wavelength\n",
    "def glass_refractive_index(n_a, degree, t, N, wavelength):\n",
    "    nom = n_a*(1-np.cos(degree*np.pi/180))*(2*n_a*t - N*wavelength)\n",
    "    denom = 2*n_a*t*(1-np.cos(degree*np.pi/180)) - N*wavelength\n",
    "    return nom/denom"
   ]
  },
  {
   "cell_type": "code",
   "execution_count": 12,
   "id": "341ea8c9-7819-48e1-8dbe-5153f0ac20b3",
   "metadata": {},
   "outputs": [
    {
     "name": "stdout",
     "output_type": "stream",
     "text": [
      "Glass Refractive Index: 1.5295575923956286\n",
      "Error Rate: 0.6287889733966177%\n",
      "Glass Refractive Index: 1.2758950267921005\n",
      "Error Rate: 16.05953771104602%\n",
      "Glass Refractive Index: 1.2674821926593556\n",
      "Error Rate: 16.61301364083187%\n",
      "Glass Refractive Index: 1.223925752064377\n",
      "Error Rate: 19.478568943133098%\n",
      "Glass Refractive Index: 1.197171233123431\n",
      "Error Rate: 21.23873466293217%\n",
      "Glass Refractive Index: 1.2988063594069785\n",
      "Error Rate: 14.552213196909308%\n"
     ]
    }
   ],
   "source": [
    "glass_index = 1.52\n",
    "glass_indicies = []\n",
    "for degree, d_n in glass_data:\n",
    "    index = glass_refractive_index(n_a, degree, t, d_n, wavelength)\n",
    "    glass_indicies.append(index)\n",
    "    print(f\"Glass Refractive Index: {index}\")\n",
    "    print(f\"Error Rate: {error_rate(glass_index, index)}%\")\n",
    "    \n",
    "mean_glass = np.mean(glass_indicies)\n",
    "print(f\"Glass Refractive Index: {mean_glass}\")\n",
    "print(f\"Error Rate: {error_rate(glass_index, mean_glass)}%\")"
   ]
  },
  {
   "cell_type": "markdown",
   "id": "2f00dce5-a876-47ec-b2f4-97c6461db792",
   "metadata": {},
   "source": [
    "# Fabry-Perot Interferometer\n",
    "$2dcos\\theta = m\\lambda$,   m = 1, 2, 3 ..."
   ]
  },
  {
   "cell_type": "code",
   "execution_count": 13,
   "id": "d0faed40-7d2a-4517-b676-ddc2670c8cfc",
   "metadata": {},
   "outputs": [
    {
     "data": {
      "text/plain": [
       "120.5460883445191"
      ]
     },
     "execution_count": 13,
     "metadata": {},
     "output_type": "execute_result"
    }
   ],
   "source": [
    "actuator_distance"
   ]
  },
  {
   "cell_type": "code",
   "execution_count": 14,
   "id": "89bf95a3-c57b-4e70-8ef9-ec1405c459bf",
   "metadata": {},
   "outputs": [
    {
     "data": {
      "text/plain": [
       "[(3.0, 6.88), (6.0, 15.6), (9.0, 23.38), (12.0, 31.13), (15.0, 38.78)]"
      ]
     },
     "execution_count": 14,
     "metadata": {},
     "output_type": "execute_result"
    }
   ],
   "source": [
    "laser_wavelength = 632.8\n",
    "fabry_data = []\n",
    "with open(os.path.join(base_path, \"fabry.txt\"), \"r\") as f:\n",
    "    while True:\n",
    "        try:\n",
    "            d_n, V = map(float, f.readline().split())\n",
    "            fabry_data.append((d_n, V))\n",
    "        except:\n",
    "            break\n",
    "fabry_data"
   ]
  },
  {
   "cell_type": "code",
   "execution_count": 15,
   "id": "4e459253-1232-4e3d-8e23-7efad6e007bd",
   "metadata": {},
   "outputs": [
    {
     "name": "stdout",
     "output_type": "stream",
     "text": [
      "Wavelength : 552.9047nm\n",
      "Error Rate: 12.625675536210341%\n",
      "Wavelength : 626.8397nm\n",
      "Error Rate: 0.9418995904710158%\n",
      "Wavelength : 626.3039nm\n",
      "Error Rate: 1.0265646335560938%\n",
      "Wavelength : 625.4333nm\n",
      "Error Rate: 1.1641453285693342%\n",
      "Wavelength : 623.3036nm\n",
      "Error Rate: 1.5006888748324552%\n",
      "Mean Wavelength: 610.9570425516182nm\n",
      "Error Rate: 3.451794792727837\n"
     ]
    }
   ],
   "source": [
    "fabry_wav = []\n",
    "for d_n, V in fabry_data:\n",
    "    wav = get_wavelength(d_n, V, actuator_distance)\n",
    "    fabry_wav.append(wav)\n",
    "    print(f\"Error Rate: {error_rate(laser_wavelength, wav)}%\")\n",
    "    \n",
    "mean_fabry = np.mean(fabry_wav)\n",
    "print(f\"Mean Wavelength: {mean_fabry}nm\")\n",
    "print(f\"Error Rate: {error_rate(laser_wavelength, mean_fabry)}\")"
   ]
  },
  {
   "cell_type": "markdown",
   "id": "e5c9eba8-0cf3-4ccf-9e43-1f4cc4fbda20",
   "metadata": {},
   "source": [
    "$y(x, t) = 2y_{max}sin(kx)cos(2 \\pi ft)$"
   ]
  },
  {
   "cell_type": "code",
   "execution_count": null,
   "id": "89c056c2-e7f8-4256-85f5-86b7bdfdfa4f",
   "metadata": {},
   "outputs": [],
   "source": []
  }
 ],
 "metadata": {
  "kernelspec": {
   "display_name": "Python 3 (ipykernel)",
   "language": "python",
   "name": "python3"
  },
  "language_info": {
   "codemirror_mode": {
    "name": "ipython",
    "version": 3
   },
   "file_extension": ".py",
   "mimetype": "text/x-python",
   "name": "python",
   "nbconvert_exporter": "python",
   "pygments_lexer": "ipython3",
   "version": "3.9.10"
  }
 },
 "nbformat": 4,
 "nbformat_minor": 5
}
