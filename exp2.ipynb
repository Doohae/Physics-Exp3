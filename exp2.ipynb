{
 "cells": [
  {
   "cell_type": "markdown",
   "id": "0b1c3af2-13ef-477c-8985-e4a9f83a6f71",
   "metadata": {},
   "source": [
    "# Magnetic Torque"
   ]
  },
  {
   "cell_type": "markdown",
   "id": "ac87acb5-6475-4a2b-9882-879b8f902166",
   "metadata": {},
   "source": [
    "## Exp 1\n",
    "### $\\mu B = rmg$\n",
    "### $B = 1.36 \\times 10^{-3} \\cdot I (T/A)$"
   ]
  },
  {
   "cell_type": "code",
   "execution_count": 2,
   "id": "d4355ca0-9be8-4f8c-9922-d73db9d206df",
   "metadata": {},
   "outputs": [],
   "source": [
    "ball_mass = 141*(1e-3)\n",
    "weight = 2e-3\n",
    "ball_radius = 52.85*(1e-3)/2\n",
    "ball_and_handle_length = 63.5*(1e-3)"
   ]
  },
  {
   "cell_type": "code",
   "execution_count": 3,
   "id": "738df9b8-eda3-4fed-aa56-166d272cfc11",
   "metadata": {},
   "outputs": [
    {
     "data": {
      "text/plain": [
       "([0.039, 0.045, 0.048, 0.053, 0.059000000000000004], [2.4, 2.5, 2.6, 2.7, 2.8])"
      ]
     },
     "execution_count": 3,
     "metadata": {},
     "output_type": "execute_result"
    }
   ],
   "source": [
    "lengths, currents = [], []\n",
    "with open(\"exp2_data/exp1.txt\", \"r\") as f:\n",
    "    N = int(f.readline())\n",
    "    for _ in range(N):\n",
    "        l, c = map(float, f.readline().split())\n",
    "        lengths.append(l*1e-3)\n",
    "        currents.append(c)\n",
    "lengths, currents"
   ]
  },
  {
   "cell_type": "code",
   "execution_count": 4,
   "id": "87e47efe-6fa4-4752-92b1-362cd6759f40",
   "metadata": {},
   "outputs": [
    {
     "data": {
      "text/plain": [
       "[0.054654600000000005,\n",
       " 0.06306300000000001,\n",
       " 0.06726720000000001,\n",
       " 0.07427420000000001,\n",
       " 0.08268260000000002]"
      ]
     },
     "execution_count": 4,
     "metadata": {},
     "output_type": "execute_result"
    }
   ],
   "source": [
    "rmg = [l*(ball_mass+weight)*9.8 for l in lengths]\n",
    "rmg"
   ]
  },
  {
   "cell_type": "code",
   "execution_count": 5,
   "id": "77b721bf-e7b7-49fd-83cc-a59e662fa372",
   "metadata": {},
   "outputs": [
    {
     "data": {
      "text/plain": [
       "[0.003264,\n",
       " 0.0034000000000000002,\n",
       " 0.0035360000000000005,\n",
       " 0.0036720000000000004,\n",
       " 0.003808]"
      ]
     },
     "execution_count": 5,
     "metadata": {},
     "output_type": "execute_result"
    }
   ],
   "source": [
    "magnetics = [1.36e-3*i for i in currents]\n",
    "magnetics"
   ]
  },
  {
   "cell_type": "code",
   "execution_count": 7,
   "id": "71c00b76-29bf-4e79-a988-e7eb4a76f537",
   "metadata": {},
   "outputs": [],
   "source": [
    "from scipy.optimize import curve_fit\n",
    "import numpy as np\n",
    "\n",
    "def lin_func(x, a, b):\n",
    "    return a*x + b\n",
    "\n",
    "popt, pcov = curve_fit(lin_func, np.array(magnetics), np.array(rmg))"
   ]
  },
  {
   "cell_type": "code",
   "execution_count": 10,
   "id": "1ec16d7a-74a9-4f00-8580-4edc784ee963",
   "metadata": {},
   "outputs": [
    {
     "data": {
      "text/plain": [
       "49.46117652765457"
      ]
     },
     "execution_count": 10,
     "metadata": {},
     "output_type": "execute_result"
    }
   ],
   "source": [
    "magnetic_moment = popt[0]\n",
    "magnetic_moment"
   ]
  },
  {
   "cell_type": "code",
   "execution_count": 14,
   "id": "25ccf4f6-6d9e-4d18-87f6-214ec2bde198",
   "metadata": {},
   "outputs": [
    {
     "data": {
      "image/png": "[encoded data removed]",
      "text/plain": [
       "<Figure size 432x288 with 1 Axes>"
      ]
     },
     "metadata": {
      "needs_background": "light"
     },
     "output_type": "display_data"
    }
   ],
   "source": [
    "from matplotlib import pyplot as plt\n",
    "\n",
    "plt.plot(np.array(magnetics), np.array(rmg), color=\"orange\")\n",
    "plt.plot(np.array(magnetics), lin_func(np.array(magnetics), *popt), color=\"skyblue\")\n",
    "plt.xlabel(\"magnetic field (T)\")\n",
    "plt.ylabel(\"gravitational torque $(N \\cdot m)$\")\n",
    "plt.title(\"Magnetic field vs. Gravitational torque\", size=14)\n",
    "plt.figtext(0.6, 0.5, s=f\"y = {popt[0]:.3f}*x + {popt[1]:.3f}\")\n",
    "plt.legend([\"raw data\", \"fitting\"])\n",
    "plt.show()"
   ]
  },
  {
   "cell_type": "markdown",
   "id": "bfad6b6b-9759-4194-a136-3fbf96c545ad",
   "metadata": {},
   "source": [
    "## Exp 2\n",
    "### $T^2 = \\frac{4 {\\pi}^2 I}{\\mu B} where I = \\frac{2}{5}mr^2$\n",
    "### $T^2 \\propto \\frac{1}{B}$\n",
    "### $\\mu = \\frac{4 {\\pi}^2 I}{T^2 B}$\n",
    "### ground truth $\\mu = 0.4 Am^2$"
   ]
  },
  {
   "cell_type": "code",
   "execution_count": 15,
   "id": "13836f32-d6d6-4b75-8cf7-9803163f9050",
   "metadata": {},
   "outputs": [
    {
     "data": {
      "text/plain": [
       "([1.6804999999999999, 1.3325, 1.1685, 1.0474999999999999, 0.9435],\n",
       " [1.0, 1.5, 2.0, 2.5, 3.0])"
      ]
     },
     "execution_count": 15,
     "metadata": {},
     "output_type": "execute_result"
    }
   ],
   "source": [
    "periods = []\n",
    "currents = []\n",
    "with open(\"exp2_data/exp2.txt\", \"r\") as f:\n",
    "    N = int(f.readline())\n",
    "    for _ in range(N):\n",
    "        p20, c = map(float, f.readline().split())\n",
    "        periods.append(p20/20)\n",
    "        currents.append(c)\n",
    "periods, currents"
   ]
  },
  {
   "cell_type": "code",
   "execution_count": 20,
   "id": "b05a0c7a-6e87-4a56-87dc-22b10a91df02",
   "metadata": {},
   "outputs": [
    {
     "data": {
      "text/plain": [
       "[735.2941176470588,\n",
       " 490.19607843137254,\n",
       " 367.6470588235294,\n",
       " 294.11764705882354,\n",
       " 245.09803921568627]"
      ]
     },
     "execution_count": 20,
     "metadata": {},
     "output_type": "execute_result"
    }
   ],
   "source": [
    "magnetics = [1.36e-3*i for i in currents]\n",
    "m_reciprocal = [1/b for b in magnetics]\n",
    "m_reciprocal"
   ]
  },
  {
   "cell_type": "code",
   "execution_count": 21,
   "id": "b0d9d726-aeeb-4fcc-b71b-0e3f4a1a19c7",
   "metadata": {},
   "outputs": [
    {
     "data": {
      "text/plain": [
       "[2.8240802499999997,\n",
       " 1.77555625,\n",
       " 1.3653922500000002,\n",
       " 1.0972562499999998,\n",
       " 0.89019225]"
      ]
     },
     "execution_count": 21,
     "metadata": {},
     "output_type": "execute_result"
    }
   ],
   "source": [
    "p_square = [p**2 for p in periods]\n",
    "p_square"
   ]
  },
  {
   "cell_type": "code",
   "execution_count": 22,
   "id": "cfb16354-6450-462a-927c-6d4efc2adca4",
   "metadata": {},
   "outputs": [
    {
     "data": {
      "text/plain": [
       "255.640980810299"
      ]
     },
     "execution_count": 22,
     "metadata": {},
     "output_type": "execute_result"
    }
   ],
   "source": [
    "popt, pcov = curve_fit(lin_func, np.array(p_square), np.array(m_reciprocal))\n",
    "popt[0]"
   ]
  },
  {
   "cell_type": "code",
   "execution_count": 24,
   "id": "2c4bdb63-0ace-4cf3-a6fb-e220ffd54b78",
   "metadata": {},
   "outputs": [
    {
     "data": {
      "image/png": "[encoded data removed]",
      "text/plain": [
       "<Figure size 432x288 with 1 Axes>"
      ]
     },
     "metadata": {
      "needs_background": "light"
     },
     "output_type": "display_data"
    }
   ],
   "source": [
    "plt.plot(np.array(p_square), np.array(m_reciprocal), color=\"orange\")\n",
    "plt.plot(np.array(p_square), lin_func(np.array(p_square), *popt), color=\"skyblue\")\n",
    "plt.xlabel(\"period square $(s^{2})$\")\n",
    "plt.ylabel(\"reciprocal of magnetic field $(T^{-1})$\")\n",
    "plt.title(\"Period squre vs. Reciprocal of magnetic field\", size=14)\n",
    "plt.figtext(0.6, 0.5, s=f\"y = {popt[0]:.3f}*x + {popt[1]:.3f}\")\n",
    "plt.legend([\"raw data\", \"fitting\"])\n",
    "plt.show()"
   ]
  },
  {
   "cell_type": "code",
   "execution_count": 26,
   "id": "a16e539e-4802-4f06-b277-d60dacb55e28",
   "metadata": {},
   "outputs": [
    {
     "data": {
      "text/plain": [
       "3.9383027250000005e-05"
      ]
     },
     "execution_count": 26,
     "metadata": {},
     "output_type": "execute_result"
    }
   ],
   "source": [
    "moment_inertia = 0.4*(ball_mass)*(ball_radius**2)\n",
    "moment_inertia"
   ]
  },
  {
   "cell_type": "code",
   "execution_count": 27,
   "id": "bdfe9ab9-bb18-46e1-acfe-c6f1d5d783e3",
   "metadata": {},
   "outputs": [
    {
     "data": {
      "text/plain": [
       "0.003707881288"
      ]
     },
     "execution_count": 27,
     "metadata": {},
     "output_type": "execute_result"
    }
   ],
   "source": [
    "denominator = np.mean([m*p for m, p in zip(magnetics, p_square)])\n",
    "denominator"
   ]
  },
  {
   "cell_type": "code",
   "execution_count": 28,
   "id": "558fd544-0b59-4100-8fd8-079d30127996",
   "metadata": {},
   "outputs": [
    {
     "data": {
      "text/plain": [
       "0.41931752274030426"
      ]
     },
     "execution_count": 28,
     "metadata": {},
     "output_type": "execute_result"
    }
   ],
   "source": [
    "magnetic_moment = 4*(np.pi**2)*moment_inertia/denominator\n",
    "magnetic_moment"
   ]
  },
  {
   "cell_type": "markdown",
   "id": "d2c0dc12-eb51-420f-b624-9c289c34a187",
   "metadata": {},
   "source": [
    "## Exp 3\n",
    "### $L = I\\omega \\quad (I = \\frac{2}{5}mr^2)$\n",
    "### ${\\Omega}_p = \\frac{\\mu}{L} B = \\frac{2\\pi}{T}$"
   ]
  },
  {
   "cell_type": "code",
   "execution_count": 49,
   "id": "ff74b131-fcc3-4d13-b423-062edd94fc59",
   "metadata": {},
   "outputs": [
    {
     "data": {
      "text/plain": [
       "(3.7, [38.51, 18.77, 11.07, 7.27, 5.32], [1.0, 1.5, 2.0, 2.5, 3.0])"
      ]
     },
     "execution_count": 49,
     "metadata": {},
     "output_type": "execute_result"
    }
   ],
   "source": [
    "periods, currents = [], []\n",
    "with open(\"exp2_data/exp3.txt\", \"r\") as f:\n",
    "    N = int(f.readline())\n",
    "    for _ in range(N):\n",
    "        p, i = map(float, f.readline().split())\n",
    "        periods.append(p)\n",
    "        currents.append(i)\n",
    "\n",
    "freq, periods, currents"
   ]
  },
  {
   "cell_type": "code",
   "execution_count": 50,
   "id": "cc56d773-b670-49ba-bb25-b13b1c05376d",
   "metadata": {},
   "outputs": [
    {
     "data": {
      "text/plain": [
       "[0.00136, 0.00204, 0.00272, 0.0034000000000000002, 0.00408]"
      ]
     },
     "execution_count": 50,
     "metadata": {},
     "output_type": "execute_result"
    }
   ],
   "source": [
    "magnetics = [1.36e-3*b for b in currents]\n",
    "magnetics"
   ]
  },
  {
   "cell_type": "code",
   "execution_count": 51,
   "id": "5f1653ed-8a3d-413c-a153-160d65af1feb",
   "metadata": {},
   "outputs": [
    {
     "data": {
      "text/plain": [
       "[0.16315723986444006,\n",
       " 0.3347461538188378,\n",
       " 0.5675867486160421,\n",
       " 0.8642620780164493,\n",
       " 1.181049869770599]"
      ]
     },
     "execution_count": 51,
     "metadata": {},
     "output_type": "execute_result"
    }
   ],
   "source": [
    "omega_p = [2*np.pi/t for t in periods]\n",
    "omega_p"
   ]
  },
  {
   "cell_type": "code",
   "execution_count": 52,
   "id": "3a89e999-bad6-44e5-a17f-2e7cc77704b0",
   "metadata": {},
   "outputs": [
    {
     "data": {
      "text/plain": [
       "377.25017352291616"
      ]
     },
     "execution_count": 52,
     "metadata": {},
     "output_type": "execute_result"
    }
   ],
   "source": [
    "popt, pcov = curve_fit(lin_func, np.array(magnetics), np.array(omega_p))\n",
    "popt[0]"
   ]
  },
  {
   "cell_type": "code",
   "execution_count": 53,
   "id": "955c6d9d-37c3-453d-8d3e-99908aa276c8",
   "metadata": {},
   "outputs": [
    {
     "data": {
      "image/png": "[encoded data removed]",
      "text/plain": [
       "<Figure size 432x288 with 1 Axes>"
      ]
     },
     "metadata": {
      "needs_background": "light"
     },
     "output_type": "display_data"
    }
   ],
   "source": [
    "plt.plot(np.array(magnetics), np.array(omega_p), color=\"orange\")\n",
    "plt.plot(np.array(magnetics), lin_func(np.array(magnetics), *popt), color=\"skyblue\")\n",
    "plt.xlabel(\"magnetic field (T)\")\n",
    "plt.ylabel(\"${\\Omega}_p (s^{-1})$\")\n",
    "plt.title(\"Magneetic field vs. ${\\Omega}_p$\", size=14)\n",
    "plt.figtext(0.6, 0.5, s=f\"y = {popt[0]:.3f}*x + {popt[1]:.3f}\")\n",
    "plt.legend([\"raw data\", \"fitting\"])\n",
    "plt.show()"
   ]
  },
  {
   "cell_type": "code",
   "execution_count": 59,
   "id": "045bb782-bc13-4321-8caa-28341463f647",
   "metadata": {},
   "outputs": [
    {
     "data": {
      "text/plain": [
       "2.432853178280208e-06"
      ]
     },
     "execution_count": 59,
     "metadata": {},
     "output_type": "execute_result"
    }
   ],
   "source": [
    "moment_inertia/np.mean(periods)"
   ]
  },
  {
   "cell_type": "code",
   "execution_count": null,
   "id": "b8e79c56-0c0e-46bb-8984-66e111bcb569",
   "metadata": {},
   "outputs": [],
   "source": []
  }
 ],
 "metadata": {
  "kernelspec": {
   "display_name": "Python 3 (ipykernel)",
   "language": "python",
   "name": "python3"
  },
  "language_info": {
   "codemirror_mode": {
    "name": "ipython",
    "version": 3
   },
   "file_extension": ".py",
   "mimetype": "text/x-python",
   "name": "python",
   "nbconvert_exporter": "python",
   "pygments_lexer": "ipython3",
   "version": "3.9.10"
  }
 },
 "nbformat": 4,
 "nbformat_minor": 5
}
